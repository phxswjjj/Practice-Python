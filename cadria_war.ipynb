{
 "cells": [
  {
   "cell_type": "code",
   "execution_count": null,
   "metadata": {
    "ExecuteTime": {
     "end_time": "2019-03-04T12:23:26.895131Z",
     "start_time": "2019-03-04T12:23:26.862127Z"
    }
   },
   "outputs": [],
   "source": [
    "from ipywidgets import IntProgress\n",
    "from IPython.display import display\n",
    "import time\n",
    "\n",
    "from inst.cadria import wnd\n",
    "\n",
    "w = wnd()\n",
    "w.load()"
   ]
  },
  {
   "cell_type": "code",
   "execution_count": null,
   "metadata": {
    "ExecuteTime": {
     "end_time": "2019-03-04T12:23:27.610222Z",
     "start_time": "2019-03-04T12:23:26.902132Z"
    },
    "scrolled": true
   },
   "outputs": [],
   "source": [
    "w.grab()\n",
    "w.image"
   ]
  },
  {
   "cell_type": "markdown",
   "metadata": {},
   "source": [
    "# 戰爭-籌備"
   ]
  },
  {
   "cell_type": "code",
   "execution_count": null,
   "metadata": {
    "ExecuteTime": {
     "end_time": "2019-03-04T12:23:27.619723Z",
     "start_time": "2019-03-04T12:23:27.612722Z"
    }
   },
   "outputs": [],
   "source": [
    "def produce(n=5, t=60, itemAvailabes=[True for x in list(range(6))]):\n",
    "    from inst.cadria import WarProduceMode\n",
    "    warmode = WarProduceMode.EASY\n",
    "    \n",
    "    itemAvailabes += [False for x in list(range(6 - len(itemAvailabes)))]\n",
    "    \n",
    "    p = IntProgress()\n",
    "    p.max = t\n",
    "    p.description = 'INIT'\n",
    "    display(p)\n",
    "    \n",
    "    for _ in range(n):\n",
    "        # 製作\n",
    "        w.focus()\n",
    "        for seq in range(6):\n",
    "            if itemAvailabes[seq]:\n",
    "                w.warProduce(warmode)\n",
    "                time.sleep(1)\n",
    "\n",
    "        # 等待全部完成\n",
    "        for j in range(p.max):\n",
    "            time.sleep(1)\n",
    "            p.value = j + 1\n",
    "            p.description = str(p.max - j) + ' s'\n",
    "        p.description = 'DONE'\n",
    "\n",
    "        # 收成\n",
    "        w.focus()\n",
    "        for seq in range(6):\n",
    "            if itemAvailabes[seq]:\n",
    "                w.warHarvest(seq)\n",
    "                time.sleep(1)\n"
   ]
  },
  {
   "cell_type": "markdown",
   "metadata": {},
   "source": [
    "# 戰爭-戰鬥"
   ]
  },
  {
   "cell_type": "code",
   "execution_count": null,
   "metadata": {
    "ExecuteTime": {
     "end_time": "2019-03-04T12:23:27.632724Z",
     "start_time": "2019-03-04T12:23:27.624223Z"
    }
   },
   "outputs": [],
   "source": [
    "def fight(n=1):    \n",
    "    from inst.cadria import WarFightMode\n",
    "    \n",
    "    warmode = WarFightMode.HARD\n",
    "    \n",
    "    # 戰爭等待時間(sec)\n",
    "    t = (10 + 10*warmode) * 60\n",
    "    \n",
    "    p = IntProgress()\n",
    "    p.max = t\n",
    "    p.description = 'INIT'\n",
    "    display(p)\n",
    "    \n",
    "    # 可用隊伍，依序執行(如果有中斷過則順序要調整)\n",
    "    teams = ['1', '2']\n",
    "    \n",
    "    for i in range(n):\n",
    "        teamNo = teams[i % len(teams)]\n",
    "        w.focus()\n",
    "        w.warFight(teamNo, warmode)\n",
    "    \n",
    "        for j in range(p.max):\n",
    "            time.sleep(1)\n",
    "            p.value = j + 1\n",
    "            p.description = str(p.max - j) + ' s'\n",
    "        p.description = 'DONE'\n",
    "    \n",
    "        w.focus()\n",
    "        w.warFightCompleted()\n",
    "        time.sleep(1)\n",
    "    "
   ]
  },
  {
   "cell_type": "markdown",
   "metadata": {},
   "source": [
    "# 執行"
   ]
  },
  {
   "cell_type": "code",
   "execution_count": null,
   "metadata": {
    "ExecuteTime": {
     "end_time": "2019-03-04T12:35:17.997429Z",
     "start_time": "2019-03-04T12:23:27.640225Z"
    },
    "scrolled": false
   },
   "outputs": [],
   "source": [
    "class warstepType:\n",
    "    NONE = 0\n",
    "    PRODUCE = 1\n",
    "    FIGHT = 2\n",
    "\n",
    "warstep = warstepType.NONE\n",
    "if warstep == warstepType.PRODUCE:\n",
    "    produce(t=60)\n",
    "elif warstep == warstepType.FIGHT:\n",
    "    fight(8)\n",
    "else:\n",
    "    print('not work:', warstep)\n",
    "    "
   ]
  }
 ],
 "metadata": {
  "kernelspec": {
   "display_name": "Python 3",
   "language": "python",
   "name": "python3"
  },
  "language_info": {
   "codemirror_mode": {
    "name": "ipython",
    "version": 3
   },
   "file_extension": ".py",
   "mimetype": "text/x-python",
   "name": "python",
   "nbconvert_exporter": "python",
   "pygments_lexer": "ipython3",
   "version": "3.6.4"
  },
  "varInspector": {
   "cols": {
    "lenName": 16,
    "lenType": 16,
    "lenVar": 40
   },
   "kernels_config": {
    "python": {
     "delete_cmd_postfix": "",
     "delete_cmd_prefix": "del ",
     "library": "var_list.py",
     "varRefreshCmd": "print(var_dic_list())"
    },
    "r": {
     "delete_cmd_postfix": ") ",
     "delete_cmd_prefix": "rm(",
     "library": "var_list.r",
     "varRefreshCmd": "cat(var_dic_list()) "
    }
   },
   "types_to_exclude": [
    "module",
    "function",
    "builtin_function_or_method",
    "instance",
    "_Feature"
   ],
   "window_display": false
  }
 },
 "nbformat": 4,
 "nbformat_minor": 2
}
