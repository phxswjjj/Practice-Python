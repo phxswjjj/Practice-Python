{
 "cells": [
  {
   "cell_type": "code",
   "execution_count": null,
   "metadata": {
    "ExecuteTime": {
     "end_time": "2019-03-15T16:44:19.015082Z",
     "start_time": "2019-03-15T16:44:18.979078Z"
    }
   },
   "outputs": [],
   "source": [
    "from ipywidgets import IntProgress\n",
    "from IPython.display import display\n",
    "import time\n",
    "\n",
    "from inst.cadria import wnd\n",
    "\n",
    "w = wnd()\n",
    "w.load()"
   ]
  },
  {
   "cell_type": "code",
   "execution_count": null,
   "metadata": {
    "ExecuteTime": {
     "end_time": "2019-03-15T16:44:19.455638Z",
     "start_time": "2019-03-15T16:44:19.020583Z"
    },
    "scrolled": false
   },
   "outputs": [],
   "source": [
    "w.grab()\n",
    "w.image"
   ]
  },
  {
   "cell_type": "code",
   "execution_count": null,
   "metadata": {
    "ExecuteTime": {
     "end_time": "2019-03-15T16:44:19.621659Z",
     "start_time": "2019-03-15T16:44:19.616659Z"
    }
   },
   "outputs": [],
   "source": [
    "def show_wait(t, multiple_sec=1):\n",
    "    from ipywidgets import IntProgress\n",
    "    from IPython.display import display\n",
    "    p = IntProgress()\n",
    "    p.max = int(t*multiple_sec+1)\n",
    "    p.description = 'INIT'\n",
    "    display(p)\n",
    "    \n",
    "    for j in range(p.max):\n",
    "        time.sleep(1)\n",
    "        p.value = j + 1\n",
    "        p.description = str(p.max - j) + ' s'\n",
    "    p.description = 'DONE'"
   ]
  },
  {
   "cell_type": "markdown",
   "metadata": {},
   "source": [
    "# 戰爭-籌備"
   ]
  },
  {
   "cell_type": "code",
   "execution_count": null,
   "metadata": {
    "ExecuteTime": {
     "end_time": "2019-03-15T16:44:19.631661Z",
     "start_time": "2019-03-15T16:44:19.624660Z"
    }
   },
   "outputs": [],
   "source": [
    "from inst.cadria import WarProduceMode\n",
    "def produce(n=5, t=60, \n",
    "            itemAvailabes=[True for x in list(range(6))], \n",
    "            warmode=WarProduceMode.EASY):\n",
    "    \n",
    "    itemAvailabes += [False for x in list(range(6 - len(itemAvailabes)))]\n",
    "    \n",
    "    p = IntProgress()\n",
    "    p.max = t\n",
    "    p.description = 'INIT'\n",
    "    display(p)\n",
    "    \n",
    "    for _ in range(n):\n",
    "        # 製作\n",
    "        w.focus()\n",
    "        for seq in range(6):\n",
    "            if itemAvailabes[seq]:\n",
    "                w.warProduce(warmode)\n",
    "                time.sleep(1)\n",
    "\n",
    "        # 等待全部完成\n",
    "        for j in range(p.max):\n",
    "            time.sleep(1)\n",
    "            p.value = j + 1\n",
    "            p.description = str(p.max - j) + ' s'\n",
    "        p.description = 'DONE'\n",
    "\n",
    "        # 收成\n",
    "        w.focus()\n",
    "        for seq in range(6):\n",
    "            if itemAvailabes[seq]:\n",
    "                w.warHarvest(seq)\n",
    "                time.sleep(1)\n"
   ]
  },
  {
   "cell_type": "markdown",
   "metadata": {},
   "source": [
    "# 戰爭-戰鬥"
   ]
  },
  {
   "cell_type": "code",
   "execution_count": null,
   "metadata": {
    "ExecuteTime": {
     "start_time": "2019-03-15T16:44:18.981Z"
    }
   },
   "outputs": [],
   "source": [
    "def fight(n=1):    \n",
    "    from inst.cadria import WarFightMode\n",
    "    \n",
    "    warmode = WarFightMode.HARD\n",
    "    \n",
    "    # 戰爭等待時間(sec)\n",
    "    t = (10 + 10*warmode) * 60\n",
    "    \n",
    "    p = IntProgress()\n",
    "    p.max = t\n",
    "    p.description = 'INIT'\n",
    "    display(p)\n",
    "    \n",
    "    # 可用隊伍，依序執行(如果有中斷過則順序要調整)\n",
    "    teams = ['1', '2']\n",
    "    \n",
    "    for i in range(n):\n",
    "        teamNo = teams[i % len(teams)]\n",
    "        w.focus()\n",
    "        w.warFight(teamNo, warmode)\n",
    "    \n",
    "        for j in range(p.max):\n",
    "            time.sleep(1)\n",
    "            p.value = j + 1\n",
    "            p.description = str(p.max - j) + ' s'\n",
    "        p.description = 'DONE'\n",
    "    \n",
    "        w.focus()\n",
    "        w.warFightCompleted()\n",
    "        time.sleep(1)\n",
    "    "
   ]
  },
  {
   "cell_type": "markdown",
   "metadata": {},
   "source": [
    "# 執行"
   ]
  },
  {
   "cell_type": "code",
   "execution_count": null,
   "metadata": {
    "ExecuteTime": {
     "start_time": "2019-03-15T16:44:18.985Z"
    },
    "scrolled": true
   },
   "outputs": [],
   "source": [
    "class warstepType:\n",
    "    NONE = 0\n",
    "    PRODUCE = 1\n",
    "    FIGHT = 2\n",
    "\n",
    "warstep = warstepType.NONE\n",
    "\n",
    "import time\n",
    "import datetime\n",
    "d1 = datetime.datetime(2019, 3, 11, 9)\n",
    "\n",
    "while warstep==warstepType.NONE:\n",
    "    now = datetime.datetime.now()\n",
    "    df_hour = (now - d1).total_seconds()/60/60 % 168 % 84\n",
    "    if df_hour<24:\n",
    "        warstep = warstepType.PRODUCE\n",
    "    elif df_hour<36:\n",
    "        show_wait(36-df_hour, 60*60)\n",
    "    elif df_hour<60:\n",
    "        warstep = warstepType.FIGHT\n",
    "    else:\n",
    "        show_wait(84-df_hour, 60*60)\n",
    "\n",
    "w.focus()\n",
    "w.warEnter()\n",
    "        \n",
    "if warstep == warstepType.PRODUCE:\n",
    "    from inst.cadria import WarProduceMode\n",
    "    produce(t=2*60-2, n=30, warmode=WarProduceMode.EASY)\n",
    "elif warstep == warstepType.FIGHT:\n",
    "    fight(20)\n",
    "else:\n",
    "    print('not work:', warstep)\n",
    "    "
   ]
  }
 ],
 "metadata": {
  "kernelspec": {
   "display_name": "Python 3",
   "language": "python",
   "name": "python3"
  },
  "language_info": {
   "codemirror_mode": {
    "name": "ipython",
    "version": 3
   },
   "file_extension": ".py",
   "mimetype": "text/x-python",
   "name": "python",
   "nbconvert_exporter": "python",
   "pygments_lexer": "ipython3",
   "version": "3.6.4"
  },
  "varInspector": {
   "cols": {
    "lenName": 16,
    "lenType": 16,
    "lenVar": 40
   },
   "kernels_config": {
    "python": {
     "delete_cmd_postfix": "",
     "delete_cmd_prefix": "del ",
     "library": "var_list.py",
     "varRefreshCmd": "print(var_dic_list())"
    },
    "r": {
     "delete_cmd_postfix": ") ",
     "delete_cmd_prefix": "rm(",
     "library": "var_list.r",
     "varRefreshCmd": "cat(var_dic_list()) "
    }
   },
   "types_to_exclude": [
    "module",
    "function",
    "builtin_function_or_method",
    "instance",
    "_Feature"
   ],
   "window_display": false
  }
 },
 "nbformat": 4,
 "nbformat_minor": 2
}
