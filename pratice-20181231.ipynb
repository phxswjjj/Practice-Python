{
 "cells": [
  {
   "cell_type": "code",
   "execution_count": 133,
   "metadata": {},
   "outputs": [
    {
     "name": "stdout",
     "output_type": "stream",
     "text": [
      "4, 5\n",
      "i > 2\n",
      "6, 7\n",
      "4, 5\n",
      "i > 2\n",
      "?\n",
      "APPLE\n"
     ]
    }
   ],
   "source": [
    "APPLE = 'APPLE'\n",
    "\n",
    "def f1(a, b = 2):\n",
    "    c = [a, b]\n",
    "    c.append(4)\n",
    "    # a, b, 4\n",
    "    \n",
    "    for i in c:\n",
    "        print(i, i+1, sep=', ')\n",
    "        if i == 3 or i == 4:\n",
    "            print('i', '>', '2')\n",
    "\n",
    "    APPLE = '?'\n",
    "    print(APPLE)\n",
    "\n",
    "f1(4, 6)\n",
    "print(APPLE)"
   ]
  },
  {
   "cell_type": "code",
   "execution_count": 134,
   "metadata": {},
   "outputs": [
    {
     "name": "stdout",
     "output_type": "stream",
     "text": [
      "class C init\n"
     ]
    }
   ],
   "source": [
    "class C:\n",
    "    def __init__(self):\n",
    "        self.__x = None\n",
    "\n",
    "    def getx(self):\n",
    "        print('get x=', self.__x)\n",
    "        return self.__x\n",
    "\n",
    "    def setx(self, value):\n",
    "        print('set x=', value)\n",
    "        self.__x = value\n",
    "\n",
    "    def delx(self):\n",
    "        del self.__x\n",
    "\n",
    "    x = property(getx, setx, delx, \"I'm the 'x' property.\")\n",
    "    print('class C init')"
   ]
  },
  {
   "cell_type": "code",
   "execution_count": 135,
   "metadata": {
    "scrolled": false
   },
   "outputs": [
    {
     "name": "stdout",
     "output_type": "stream",
     "text": [
      "set x= c.x\n",
      "set x= d.x\n",
      "get x= c.x\n"
     ]
    },
    {
     "data": {
      "text/plain": [
       "'c.x'"
      ]
     },
     "execution_count": 135,
     "metadata": {},
     "output_type": "execute_result"
    }
   ],
   "source": [
    "c = C()\n",
    "d = C()\n",
    "c.x = 'c.x'\n",
    "d.x = 'd.x'\n",
    "c.x"
   ]
  },
  {
   "cell_type": "code",
   "execution_count": 141,
   "metadata": {},
   "outputs": [],
   "source": [
    "with open('test.txt', 'w') as writer:\n",
    "    writer.write('1\\n')\n",
    "    # file must to be an object with a write(string) method\n",
    "    print('2', file=writer)\n",
    "    print('3', file=writer)"
   ]
  },
  {
   "cell_type": "code",
   "execution_count": 153,
   "metadata": {
    "scrolled": false
   },
   "outputs": [
    {
     "name": "stdout",
     "output_type": "stream",
     "text": [
      "1\n",
      "2\n",
      "3\n"
     ]
    }
   ],
   "source": [
    "with open('test.txt', 'r') as reader:\n",
    "    while True:\n",
    "        content = reader.readline()\n",
    "        if not content:\n",
    "            break\n",
    "        print(content.strip())"
   ]
  },
  {
   "cell_type": "code",
   "execution_count": 149,
   "metadata": {},
   "outputs": [
    {
     "ename": "NameError",
     "evalue": "name 'EOF' is not defined",
     "output_type": "error",
     "traceback": [
      "\u001b[1;31m---------------------------------------------------------------------------\u001b[0m",
      "\u001b[1;31mNameError\u001b[0m                                 Traceback (most recent call last)",
      "\u001b[1;32m<ipython-input-149-f8427775794d>\u001b[0m in \u001b[0;36m<module>\u001b[1;34m\u001b[0m\n\u001b[1;32m----> 1\u001b[1;33m \u001b[0mEOF\u001b[0m\u001b[1;33m\u001b[0m\u001b[0m\n\u001b[0m",
      "\u001b[1;31mNameError\u001b[0m: name 'EOF' is not defined"
     ]
    }
   ],
   "source": []
  }
 ],
 "metadata": {
  "kernelspec": {
   "display_name": "Python 3",
   "language": "python",
   "name": "python3"
  },
  "language_info": {
   "codemirror_mode": {
    "name": "ipython",
    "version": 3
   },
   "file_extension": ".py",
   "mimetype": "text/x-python",
   "name": "python",
   "nbconvert_exporter": "python",
   "pygments_lexer": "ipython3",
   "version": "3.6.4"
  }
 },
 "nbformat": 4,
 "nbformat_minor": 2
}
