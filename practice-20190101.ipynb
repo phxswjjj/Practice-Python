{
 "cells": [
  {
   "cell_type": "code",
   "execution_count": 1,
   "metadata": {
    "ExecuteTime": {
     "end_time": "2019-01-05T09:33:33.634881Z",
     "start_time": "2019-01-05T09:33:33.568872Z"
    }
   },
   "outputs": [],
   "source": [
    "import requests\n",
    "from os import path\n",
    "    \n",
    "def init_image():\n",
    "    imgName = 'res\\\\image.jpg'\n",
    "    if not path.isfile(imgName):\n",
    "        res = requests.get('https://blog.gtwang.org/wp-content/uploads/2018/03/human-20180303-01-1024x683.jpg')\n",
    "        with open(imgName, 'wb') as f:\n",
    "            f.write(res.content)\n",
    "    return imgName"
   ]
  },
  {
   "cell_type": "code",
   "execution_count": 2,
   "metadata": {
    "ExecuteTime": {
     "end_time": "2019-01-05T09:33:36.738275Z",
     "start_time": "2019-01-05T09:33:33.638381Z"
    },
    "scrolled": true
   },
   "outputs": [],
   "source": [
    "# import numpy as np\n",
    "import cv2\n",
    "\n",
    "# 讀取圖檔\n",
    "img = cv2.imread(init_image())\n",
    "\n",
    "# 讓視窗可以自由縮放大小\n",
    "cv2.namedWindow('My Image', cv2.WINDOW_NORMAL)\n",
    "\n",
    "# 顯示圖片\n",
    "cv2.imshow('My Image', img)\n",
    "\n",
    "# 按下任意鍵則關閉所有視窗 or wait 3 secs\n",
    "cv2.waitKey(3 * 1000)\n",
    "cv2.destroyAllWindows()"
   ]
  },
  {
   "cell_type": "code",
   "execution_count": 3,
   "metadata": {
    "ExecuteTime": {
     "end_time": "2019-01-05T09:33:37.012310Z",
     "start_time": "2019-01-05T09:33:36.740775Z"
    },
    "scrolled": true
   },
   "outputs": [
    {
     "data": {
      "text/plain": [
       "<Figure size 640x480 with 1 Axes>"
      ]
     },
     "metadata": {},
     "output_type": "display_data"
    }
   ],
   "source": [
    "from matplotlib import pyplot as plt\n",
    "\n",
    "# 將 BGR 圖片轉為 RGB 圖片\n",
    "img_rgb = cv2.cvtColor(img, cv2.COLOR_BGR2RGB)\n",
    "\n",
    "# 使用 Matplotlib 顯示圖片\n",
    "plt.imshow(img_rgb)\n",
    "plt.show()"
   ]
  },
  {
   "cell_type": "code",
   "execution_count": 4,
   "metadata": {
    "ExecuteTime": {
     "end_time": "2019-01-05T09:33:37.024811Z",
     "start_time": "2019-01-05T09:33:37.019311Z"
    }
   },
   "outputs": [
    {
     "data": {
      "text/plain": [
       "(683, 1024, 3)"
      ]
     },
     "execution_count": 4,
     "metadata": {},
     "output_type": "execute_result"
    }
   ],
   "source": [
    "# (height, width, channel)\n",
    "# channel: 3=RGB, 1=灰階\n",
    "img.shape"
   ]
  }
 ],
 "metadata": {
  "kernelspec": {
   "display_name": "Python 3",
   "language": "python",
   "name": "python3"
  },
  "language_info": {
   "codemirror_mode": {
    "name": "ipython",
    "version": 3
   },
   "file_extension": ".py",
   "mimetype": "text/x-python",
   "name": "python",
   "nbconvert_exporter": "python",
   "pygments_lexer": "ipython3",
   "version": "3.6.4"
  },
  "varInspector": {
   "cols": {
    "lenName": 16,
    "lenType": 16,
    "lenVar": 40
   },
   "kernels_config": {
    "python": {
     "delete_cmd_postfix": "",
     "delete_cmd_prefix": "del ",
     "library": "var_list.py",
     "varRefreshCmd": "print(var_dic_list())"
    },
    "r": {
     "delete_cmd_postfix": ") ",
     "delete_cmd_prefix": "rm(",
     "library": "var_list.r",
     "varRefreshCmd": "cat(var_dic_list()) "
    }
   },
   "oldHeight": 122.66666599999999,
   "position": {
    "height": "143.333px",
    "left": "684.333px",
    "right": "20px",
    "top": "156px",
    "width": "589.323px"
   },
   "types_to_exclude": [
    "module",
    "function",
    "builtin_function_or_method",
    "instance",
    "_Feature"
   ],
   "varInspector_section_display": "block",
   "window_display": false
  }
 },
 "nbformat": 4,
 "nbformat_minor": 2
}
