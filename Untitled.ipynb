{
 "cells": [
  {
   "cell_type": "code",
   "execution_count": null,
   "metadata": {
    "ExecuteTime": {
     "end_time": "2019-06-01T16:26:08.414397Z",
     "start_time": "2019-06-01T16:26:08.254376Z"
    }
   },
   "outputs": [],
   "source": [
    "import numpy as np\n",
    "x = np.array([[0, 1, 2], [3, 4, 5], [6, 7, 8]])\n",
    "y = np.where(x > 1)\n",
    "y[0][1]"
   ]
  },
  {
   "cell_type": "code",
   "execution_count": null,
   "metadata": {},
   "outputs": [],
   "source": [
    "import numpy as np\n",
    "a = np.array([[1, 2], [3, 4]])\n",
    "b = np.array([1, 2, 3, 4])\n",
    "np.where(b > 2)\n"
   ]
  },
  {
   "cell_type": "code",
   "execution_count": null,
   "metadata": {},
   "outputs": [],
   "source": [
    "import numpy as np\n",
    "a = np.array([[1, 2], [3, 4]])\n",
    "np.where([[False, False], [True, True]], a, 0)"
   ]
  },
  {
   "cell_type": "code",
   "execution_count": null,
   "metadata": {},
   "outputs": [],
   "source": [
    "import numpy as np\n",
    "a = np.array([[1, 2], [3, 4]])\n",
    "a > 2"
   ]
  },
  {
   "cell_type": "code",
   "execution_count": null,
   "metadata": {},
   "outputs": [],
   "source": [
    "import numpy as np\n",
    "np.array([[1, 2], [3, 4]])"
   ]
  },
  {
   "cell_type": "code",
   "execution_count": null,
   "metadata": {},
   "outputs": [],
   "source": [
    "a = (1, 2)\n",
    "b = (4, 6)\n",
    "tuple(a1 + b1 for a1, b1 in zip(a, b))"
   ]
  },
  {
   "cell_type": "code",
   "execution_count": null,
   "metadata": {},
   "outputs": [],
   "source": [
    "a = (1, 2)\n",
    "b = (4, 6)\n",
    "import operator\n",
    "tuple(map(operator.add, a, b))"
   ]
  },
  {
   "cell_type": "code",
   "execution_count": null,
   "metadata": {
    "ExecuteTime": {
     "end_time": "2019-05-03T16:13:10.983795Z",
     "start_time": "2019-05-03T16:13:10.974794Z"
    }
   },
   "outputs": [],
   "source": [
    "from inst.scene import SceneBase\n",
    "from inst.scene.pub import Pub\n",
    "from inst.scene.shop import Shop\n",
    "from inst.scene.forces import ForcesWarQueue, ForcesWarExec, ForcesWarExecStep1, ForcesWarExecStep2\n",
    "for cls in SceneBase.all_subclasses():\n",
    "    print(cls.__name__)\n",
    "    "
   ]
  },
  {
   "cell_type": "code",
   "execution_count": null,
   "metadata": {
    "ExecuteTime": {
     "end_time": "2019-05-03T16:11:32.858335Z",
     "start_time": "2019-05-03T16:11:32.850834Z"
    },
    "scrolled": false
   },
   "outputs": [],
   "source": [
    "if [1]:\n",
    "    print('ok')"
   ]
  },
  {
   "cell_type": "code",
   "execution_count": null,
   "metadata": {
    "ExecuteTime": {
     "end_time": "2019-03-15T16:14:47.000565Z",
     "start_time": "2019-03-15T16:14:46.992064Z"
    }
   },
   "outputs": [],
   "source": [
    "import datetime\n",
    "d1 = datetime.datetime(2019, 3, 11, 9)\n",
    "now = datetime.datetime.now()\n",
    "df_hour = (now - d1).total_seconds()/60/60 % 168 % 84\n",
    "if df_hour<24:\n",
    "    print('produce')\n",
    "elif df_hour<36:\n",
    "    print('wait fight')\n",
    "elif df_hour<60:\n",
    "    print('fight')\n",
    "    \n",
    "print(int(df_hour))"
   ]
  },
  {
   "cell_type": "code",
   "execution_count": null,
   "metadata": {
    "ExecuteTime": {
     "end_time": "2019-03-14T16:22:22.994562Z",
     "start_time": "2019-03-14T16:22:22.984061Z"
    }
   },
   "outputs": [],
   "source": [
    "for x in iter({'x': 1, 3: 2}):\n",
    "    print(x)\n",
    "for x in iter([1, 2]):\n",
    "    print(x)\n",
    "a = dict(x=1, y=2)\n",
    "for x in a:\n",
    "    print(x, a[x])\n",
    "help(a)"
   ]
  },
  {
   "cell_type": "code",
   "execution_count": null,
   "metadata": {
    "ExecuteTime": {
     "end_time": "2019-03-15T16:20:47.741373Z",
     "start_time": "2019-03-15T16:20:37.707099Z"
    }
   },
   "outputs": [],
   "source": [
    "def show_wait(t):\n",
    "    from ipywidgets import IntProgress\n",
    "    from IPython.display import display\n",
    "    p = IntProgress()\n",
    "    p.max = t\n",
    "    p.description = 'INIT'\n",
    "    display(p)\n",
    "    \n",
    "    for j in range(p.max):\n",
    "        time.sleep(1)\n",
    "        p.value = j + 1\n",
    "        p.description = str(p.max - j) + ' s'\n",
    "    p.description = 'DONE'\n",
    "    \n",
    "show_wait(10)"
   ]
  },
  {
   "cell_type": "code",
   "execution_count": null,
   "metadata": {
    "ExecuteTime": {
     "end_time": "2019-03-21T14:15:31.743943Z",
     "start_time": "2019-03-21T14:15:31.736442Z"
    },
    "scrolled": false
   },
   "outputs": [],
   "source": [
    "{1: 'a', 2: 'b'}.get(3, 'x')"
   ]
  },
  {
   "cell_type": "code",
   "execution_count": null,
   "metadata": {
    "ExecuteTime": {
     "end_time": "2019-03-19T14:52:10.737867Z",
     "start_time": "2019-03-19T14:52:10.731866Z"
    }
   },
   "outputs": [],
   "source": [
    "a, *b, c = (x for x in range(10) if x>2 for y in (x, x) if y<7)\n",
    "print(a, b, c) # 3 [3, 4, 4, 5, 5, 6] 6\n",
    "\n"
   ]
  },
  {
   "cell_type": "code",
   "execution_count": null,
   "metadata": {
    "ExecuteTime": {
     "end_time": "2019-03-12T15:34:39.930099Z",
     "start_time": "2019-03-12T15:34:39.656564Z"
    },
    "scrolled": true
   },
   "outputs": [],
   "source": [
    "#matplotlib inline\n",
    "import numpy as np\n",
    "import matplotlib.pyplot as plt\n",
    "# plt.plot([1, 37, 25, 68])\n",
    "x = np.linspace(10, 100, 100000)\n",
    "y = np.sin(x)\n",
    "plt.plot(x, y)"
   ]
  },
  {
   "cell_type": "code",
   "execution_count": null,
   "metadata": {
    "ExecuteTime": {
     "end_time": "2019-03-10T14:56:30.217704Z",
     "start_time": "2019-03-10T14:56:30.213204Z"
    },
    "scrolled": true
   },
   "outputs": [],
   "source": [
    "help('for')"
   ]
  },
  {
   "cell_type": "code",
   "execution_count": null,
   "metadata": {
    "ExecuteTime": {
     "end_time": "2019-03-02T06:37:00.127064Z",
     "start_time": "2019-03-02T06:37:00.121563Z"
    },
    "scrolled": true
   },
   "outputs": [],
   "source": [
    "from ctypes import *\n",
    "\n",
    "class POINT(Structure):\n",
    "    _fields_ = [(\"x\", c_ulong),\n",
    "                (\"y\", c_ulong)]\n",
    "    \n",
    "    def __init__(self, p=(0, 0)):\n",
    "        self.x = p[0]\n",
    "        self.y = p[1]\n",
    "    \n",
    "p = POINT()\n",
    "print(p.x, p.y)"
   ]
  },
  {
   "cell_type": "code",
   "execution_count": null,
   "metadata": {
    "ExecuteTime": {
     "end_time": "2019-03-04T11:24:58.858667Z",
     "start_time": "2019-03-04T11:24:58.838664Z"
    }
   },
   "outputs": [],
   "source": [
    "import win32gui\n",
    "hwnd = w.hwnd\n",
    "\n",
    "print('fore win', win32gui.GetForegroundWindow(), ', hwnd', w.hwnd)\n",
    "print('is iconic', win32gui.IsIconic(hwnd))"
   ]
  },
  {
   "cell_type": "code",
   "execution_count": null,
   "metadata": {
    "ExecuteTime": {
     "end_time": "2019-03-02T14:26:31.108824Z",
     "start_time": "2019-03-02T14:26:30.892796Z"
    }
   },
   "outputs": [],
   "source": [
    "w = wnd()\n",
    "w.load()\n",
    "\n",
    "w.focus()\n",
    "\n",
    "# print(w.rect)\n",
    "print(w.rect, w.size)"
   ]
  },
  {
   "cell_type": "code",
   "execution_count": null,
   "metadata": {
    "ExecuteTime": {
     "end_time": "2019-03-02T14:25:31.286727Z",
     "start_time": "2019-03-02T14:25:31.071200Z"
    }
   },
   "outputs": [],
   "source": [
    "from os import path as opath\n",
    "import cv2\n",
    "import numpy as np\n",
    "_dir = 'inst/scene/img'\n",
    "img_stone = cv2.imread(opath.join(_dir, 'shop_res_stone.jpg'))\n",
    "img_shop = cv2.imread(opath.join(_dir, 'test_shop.jpg'))\n",
    "img_pub = cv2.imread(opath.join(_dir, 'test_pub.jpg'))\n",
    "\n",
    "h, w = img_stone.shape[:2]\n",
    "\n",
    "for img_screen in [img_shop, img_pub]:\n",
    "    result = cv2.matchTemplate(\n",
    "                img_screen, img_stone, cv2.TM_CCOEFF_NORMED)\n",
    "    min_val, max_val, min_loc, max_loc = cv2.minMaxLoc(result)\n",
    "    if max_val<0.99:\n",
    "        continue\n",
    "\n",
    "    left_top = max_loc\n",
    "    right_bottom = (max_loc[0] + w, max_loc[1] + h)\n",
    "    print(max_val, left_top, right_bottom)\n",
    "\n",
    "    cv2.rectangle(img_screen, left_top, right_bottom, (0, 0, 255), 2)\n",
    "    cv2.imshow(str(left_top), img_screen)\n",
    "\n",
    "cv2.waitKey(0)\n",
    "cv2.destroyAllWindows()"
   ]
  },
  {
   "cell_type": "code",
   "execution_count": null,
   "metadata": {
    "ExecuteTime": {
     "end_time": "2019-03-02T14:51:15.593329Z",
     "start_time": "2019-03-02T14:51:15.587829Z"
    }
   },
   "outputs": [],
   "source": [
    "\n",
    "from os import path as opath\n",
    "import cv2\n",
    "import numpy as np\n",
    "_dir = 'inst/scene/img'\n",
    "filename = 'shop_res_stone.jpg'\n",
    "file_path = opath.join(_dir, filename)\n",
    "img = cv2.imread(file_path)\n",
    "height, width, channels = img.shape\n",
    "print(height, width, channels)"
   ]
  },
  {
   "cell_type": "code",
   "execution_count": null,
   "metadata": {},
   "outputs": [],
   "source": [
    "from datetime import datetime, time, timedelta\n",
    "d1 = datetime(2019, 1, 1, 12, 20, 0)\n",
    "d2 = datetime(2019, 1, 2, 13, 20, 0)\n",
    "dif = d2 - d1\n",
    "# timedelta(2, 44720, 594224) > timedelta(1, 44720, 594224)\n",
    "dif\n",
    "# datetime.timedelta(0, 3550)\n",
    "\n"
   ]
  },
  {
   "cell_type": "code",
   "execution_count": null,
   "metadata": {},
   "outputs": [],
   "source": [
    "import math\n",
    "x1, y1, x2, y2 = (0, 0, 10, 10)\n",
    "dist = math.hypot(x2 - x1, y2 - y1)\n",
    "dist"
   ]
  }
 ],
 "metadata": {
  "kernelspec": {
   "display_name": "Python 3",
   "language": "python",
   "name": "python3"
  },
  "language_info": {
   "codemirror_mode": {
    "name": "ipython",
    "version": 3
   },
   "file_extension": ".py",
   "mimetype": "text/x-python",
   "name": "python",
   "nbconvert_exporter": "python",
   "pygments_lexer": "ipython3",
   "version": "3.6.4"
  },
  "varInspector": {
   "cols": {
    "lenName": 16,
    "lenType": 16,
    "lenVar": 40
   },
   "kernels_config": {
    "python": {
     "delete_cmd_postfix": "",
     "delete_cmd_prefix": "del ",
     "library": "var_list.py",
     "varRefreshCmd": "print(var_dic_list())"
    },
    "r": {
     "delete_cmd_postfix": ") ",
     "delete_cmd_prefix": "rm(",
     "library": "var_list.r",
     "varRefreshCmd": "cat(var_dic_list()) "
    }
   },
   "types_to_exclude": [
    "module",
    "function",
    "builtin_function_or_method",
    "instance",
    "_Feature"
   ],
   "window_display": false
  }
 },
 "nbformat": 4,
 "nbformat_minor": 2
}
