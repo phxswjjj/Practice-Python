{
 "cells": [
  {
   "cell_type": "code",
   "execution_count": null,
   "metadata": {
    "ExecuteTime": {
     "end_time": "2019-06-09T12:51:49.227397Z",
     "start_time": "2019-06-09T12:51:46.865598Z"
    }
   },
   "outputs": [],
   "source": [
    "import cv2\n",
    "# from cv2 import cv\n",
    "\n",
    "# method = cv.CV_TM_SQDIFF_NORMED\n",
    "method = cv2.TM_SQDIFF_NORMED\n",
    "\n",
    "# Read the images from the file\n",
    "small_image = cv2.imread('res/pic201906_11.jpg')\n",
    "large_image = cv2.imread('res/pic201906_10.jpg')\n",
    "\n",
    "result = cv2.matchTemplate(small_image, large_image, method)\n",
    "\n",
    "# We want the minimum squared difference\n",
    "mn,_,mnLoc,_ = cv2.minMaxLoc(result)\n",
    "\n",
    "# Draw the rectangle:\n",
    "# Extract the coordinates of our best match\n",
    "MPx,MPy = mnLoc\n",
    "\n",
    "# Step 2: Get the size of the template. This is the same size as the match.\n",
    "trows,tcols = small_image.shape[:2]\n",
    "\n",
    "# Step 3: Draw the rectangle on large_image\n",
    "cv2.rectangle(large_image, (MPx,MPy),(MPx+tcols,MPy+trows),(0,0,255),2)\n",
    "\n",
    "# Display the original image with the rectangle around the match.\n",
    "cv2.imshow('output',large_image)\n",
    "\n",
    "# The image is only displayed if we call this\n",
    "cv2.waitKey(0)"
   ]
  },
  {
   "cell_type": "code",
   "execution_count": null,
   "metadata": {},
   "outputs": [],
   "source": [
    "import cv2\n",
    "# from cv2 import cv\n",
    "\n",
    "# method = cv.CV_TM_SQDIFF_NORMED\n",
    "method = cv2.TM_SQDIFF_NORMED\n",
    "\n",
    "# Read the images from the file\n",
    "small_image = cv2.imread('res/pic201906_11.jpg')\n",
    "large_image = cv2.imread('res/pic201906_10.jpg')\n",
    "other_image = cv2.imread('res/image.jpg')\n",
    "\n",
    "result = cv2.matchTemplate(small_image, large_image, method)\n",
    "\n",
    "min_val, max_val, min_loc, max_loc = cv2.minMaxLoc(result)\n",
    "print(min_val, max_val, min_loc, max_loc)"
   ]
  },
  {
   "cell_type": "code",
   "execution_count": null,
   "metadata": {},
   "outputs": [],
   "source": [
    "import cv2\n",
    "# from cv2 import cv\n",
    "\n",
    "# method = cv.CV_TM_SQDIFF_NORMED\n",
    "method = cv2.TM_CCOEFF_NORMED\n",
    "\n",
    "# Read the images from the file\n",
    "small_image = cv2.imread('res/pic201906_11.jpg')\n",
    "large_image = cv2.imread('res/pic201906_10.jpg')\n",
    "other_image = cv2.imread('res/image.jpg')\n",
    "\n",
    "result = cv2.matchTemplate(large_image, small_image, method)\n",
    "threshold = 0.5\n",
    "loc1, loc2 = np.where(result >= threshold)\n",
    "loc1"
   ]
  },
  {
   "cell_type": "code",
   "execution_count": null,
   "metadata": {},
   "outputs": [],
   "source": [
    "import cv2\n",
    "# from cv2 import cv\n",
    "\n",
    "# method = cv.CV_TM_SQDIFF_NORMED\n",
    "method = cv2.TM_SQDIFF_NORMED\n",
    "\n",
    "# Read the images from the file\n",
    "small_image = cv2.imread('res/pic201906_11.jpg')\n",
    "large_image = cv2.imread('res/pic201906_10.jpg')\n",
    "other_image = cv2.imread('res/image.jpg')\n",
    "\n",
    "small_image = other_image\n",
    "\n",
    "result = cv2.matchTemplate(small_image, large_image, method)\n",
    "\n",
    "min_val, max_val, min_loc, max_loc = cv2.minMaxLoc(result)\n",
    "print(min_val, max_val, min_loc, max_loc)"
   ]
  },
  {
   "cell_type": "code",
   "execution_count": null,
   "metadata": {
    "scrolled": false
   },
   "outputs": [],
   "source": [
    "from inst.cadria import wnd\n",
    "w = wnd()\n",
    "w.load()\n",
    "\n",
    "w.grab()\n",
    "\n",
    "import numpy as np\n",
    "import cv2\n",
    "method = cv2.TM_SQDIFF_NORMED\n",
    "small_image = cv2.imread('inst/scene/img/town_icon.jpg')\n",
    "# large_image = np.asarray(w.image)\n",
    "large_image = cv2.cvtColor(np.asarray(w.image),cv2.COLOR_RGB2BGR)  \n",
    "\n",
    "result = cv2.matchTemplate(small_image, large_image, method)\n",
    "threshold = 0.1\n",
    "loc = np.where( result >= threshold)\n",
    "loc\n",
    "# min_val, max_val, min_loc, max_loc = cv2.minMaxLoc(result)\n",
    "# print(min_val, max_val, min_loc, max_loc)"
   ]
  },
  {
   "cell_type": "code",
   "execution_count": null,
   "metadata": {},
   "outputs": [],
   "source": [
    "from inst.cadria import wnd\n",
    "w = wnd()\n",
    "w.load()\n",
    "\n",
    "w.grab()\n",
    "\n",
    "import numpy as np\n",
    "import cv2\n",
    "\n",
    "small_image = cv2.imread('inst/scene/img/town_icon.jpg')\n",
    "other_image = cv2.imread('res/image.jpg')\n",
    "# small_image = other_image\n",
    "# large_image = np.asarray(w.image)\n",
    "large_image = cv2.cvtColor(np.asarray(w.image),cv2.COLOR_RGB2BGR)\n",
    "w, h = small_image.shape[:2]\n",
    "\n",
    "result = cv2.matchTemplate(large_image,small_image,cv2.TM_CCOEFF_NORMED)\n",
    "threshold = 0.9\n",
    "loc = np.where( result >= threshold)\n",
    "print(loc)\n",
    "for pt in zip(*loc[::-1]):\n",
    "    print(pt)\n",
    "    cv2.rectangle(large_image, pt, (pt[0] + w, pt[1] + h), (0,0,255), 2)\n",
    "\n",
    "# Display the original image with the rectangle around the match.\n",
    "cv2.imshow('output',large_image)\n",
    "\n",
    "# The image is only displayed if we call this\n",
    "cv2.waitKey(0)"
   ]
  },
  {
   "cell_type": "code",
   "execution_count": null,
   "metadata": {},
   "outputs": [],
   "source": [
    "\n",
    "# Draw the rectangle:\n",
    "# Extract the coordinates of our best match\n",
    "MPx,MPy = min_loc\n",
    "\n",
    "# Step 2: Get the size of the template. This is the same size as the match.\n",
    "trows,tcols = small_image.shape[:2]\n",
    "\n",
    "# Step 3: Draw the rectangle on large_image\n",
    "cv2.rectangle(large_image, (MPx,MPy),(MPx+tcols,MPy+trows),(0,0,255),2)\n",
    "\n",
    "# Display the original image with the rectangle around the match.\n",
    "cv2.imshow('output',large_image)\n",
    "\n",
    "# The image is only displayed if we call this\n",
    "cv2.waitKey(0)"
   ]
  }
 ],
 "metadata": {
  "kernelspec": {
   "display_name": "Python 3",
   "language": "python",
   "name": "python3"
  },
  "language_info": {
   "codemirror_mode": {
    "name": "ipython",
    "version": 3
   },
   "file_extension": ".py",
   "mimetype": "text/x-python",
   "name": "python",
   "nbconvert_exporter": "python",
   "pygments_lexer": "ipython3",
   "version": "3.6.4"
  },
  "varInspector": {
   "cols": {
    "lenName": 16,
    "lenType": 16,
    "lenVar": 40
   },
   "kernels_config": {
    "python": {
     "delete_cmd_postfix": "",
     "delete_cmd_prefix": "del ",
     "library": "var_list.py",
     "varRefreshCmd": "print(var_dic_list())"
    },
    "r": {
     "delete_cmd_postfix": ") ",
     "delete_cmd_prefix": "rm(",
     "library": "var_list.r",
     "varRefreshCmd": "cat(var_dic_list()) "
    }
   },
   "types_to_exclude": [
    "module",
    "function",
    "builtin_function_or_method",
    "instance",
    "_Feature"
   ],
   "window_display": false
  }
 },
 "nbformat": 4,
 "nbformat_minor": 2
}
