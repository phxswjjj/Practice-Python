{
 "cells": [
  {
   "cell_type": "code",
   "execution_count": 1,
   "metadata": {
    "ExecuteTime": {
     "end_time": "2019-01-05T15:42:36.122620Z",
     "start_time": "2019-01-05T15:42:36.093616Z"
    }
   },
   "outputs": [
    {
     "name": "stdout",
     "output_type": "stream",
     "text": [
      "Sdorica1-FB\n"
     ]
    }
   ],
   "source": [
    "import os.path as path\n",
    "def init_variables():\n",
    "    global targetWinName\n",
    "    targetWinName_path = 'res\\\\targetWinName.txt'\n",
    "    if path.isfile(targetWinName_path):\n",
    "        with open(targetWinName_path, 'r') as reader:\n",
    "            while True:\n",
    "                content = reader.readline()\n",
    "                if not content:\n",
    "                    break\n",
    "                content = content.strip()\n",
    "                if len(content) > 0:\n",
    "                    targetWinName = content.strip()\n",
    "                    break\n",
    "    else:\n",
    "        # for TEST\n",
    "        targetWinName = 'LINE'\n",
    "\n",
    "init_variables()\n",
    "print(targetWinName)"
   ]
  },
  {
   "cell_type": "code",
   "execution_count": 2,
   "metadata": {
    "ExecuteTime": {
     "end_time": "2019-01-05T15:42:37.313771Z",
     "start_time": "2019-01-05T15:42:36.126620Z"
    }
   },
   "outputs": [
    {
     "name": "stdout",
     "output_type": "stream",
     "text": [
      "460762 Sdorica1-FB\n",
      "(0, 0, 1635, 943)\n"
     ]
    }
   ],
   "source": [
    "from PIL import ImageGrab\n",
    "import win32gui, win32con\n",
    "\n",
    "hwnd = win32gui.FindWindow(None, targetWinName)\n",
    "if hwnd > 0:\n",
    "    print(hwnd, win32gui.GetWindowText(hwnd))\n",
    "\n",
    "    # move to front\n",
    "    win32gui.ShowWindow(hwnd, win32con.SW_RESTORE)\n",
    "    win32gui.SetWindowPos(hwnd,win32con.HWND_NOTOPMOST, 0, 0, 0, 0, win32con.SWP_NOMOVE + win32con.SWP_NOSIZE)  \n",
    "    win32gui.SetWindowPos(hwnd,win32con.HWND_TOPMOST, 0, 0, 0, 0, win32con.SWP_NOMOVE + win32con.SWP_NOSIZE)  \n",
    "    win32gui.SetWindowPos(hwnd,win32con.HWND_NOTOPMOST, 0, 0, 0, 0, win32con.SWP_SHOWWINDOW + win32con.SWP_NOMOVE + win32con.SWP_NOSIZE)\n",
    "\n",
    "    bbox = win32gui.GetWindowRect(hwnd)\n",
    "    print(bbox)\n",
    "\n",
    "    img = ImageGrab.grab(bbox)\n",
    "    img.show()\n",
    "else:\n",
    "    print('not found', targetWinName)"
   ]
  }
 ],
 "metadata": {
  "kernelspec": {
   "display_name": "Python 3",
   "language": "python",
   "name": "python3"
  },
  "language_info": {
   "codemirror_mode": {
    "name": "ipython",
    "version": 3
   },
   "file_extension": ".py",
   "mimetype": "text/x-python",
   "name": "python",
   "nbconvert_exporter": "python",
   "pygments_lexer": "ipython3",
   "version": "3.6.4"
  },
  "varInspector": {
   "cols": {
    "lenName": 16,
    "lenType": 16,
    "lenVar": 40
   },
   "kernels_config": {
    "python": {
     "delete_cmd_postfix": "",
     "delete_cmd_prefix": "del ",
     "library": "var_list.py",
     "varRefreshCmd": "print(var_dic_list())"
    },
    "r": {
     "delete_cmd_postfix": ") ",
     "delete_cmd_prefix": "rm(",
     "library": "var_list.r",
     "varRefreshCmd": "cat(var_dic_list()) "
    }
   },
   "position": {
    "height": "144px",
    "left": "911px",
    "right": "20px",
    "top": "119px",
    "width": "350px"
   },
   "types_to_exclude": [
    "module",
    "function",
    "builtin_function_or_method",
    "instance",
    "_Feature"
   ],
   "window_display": false
  }
 },
 "nbformat": 4,
 "nbformat_minor": 2
}
